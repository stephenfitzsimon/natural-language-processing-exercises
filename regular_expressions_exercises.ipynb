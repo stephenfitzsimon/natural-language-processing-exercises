{
 "cells": [
  {
   "cell_type": "code",
   "execution_count": 1,
   "id": "d74ecffe",
   "metadata": {},
   "outputs": [],
   "source": [
    "import re"
   ]
  },
  {
   "cell_type": "markdown",
   "id": "05810f52",
   "metadata": {},
   "source": [
    "1. Write a function named `is_vowel`. It should accept a string as input and use a regular expression to determine if the passed string is a vowel. While not explicity mentioned in the lesson, you can treat the result of re.search as a boolean value that indicates whether or not the regular expression matches the given string."
   ]
  },
  {
   "cell_type": "code",
   "execution_count": 139,
   "id": "48989f83",
   "metadata": {},
   "outputs": [],
   "source": [
    "#making an assumption that I am looking for strings that\n",
    "#are a single vowel\n",
    "\n",
    "def is_vowel(s):\n",
    "    return bool(re.findall(r'^[aeiou]$', s, re.IGNORECASE))"
   ]
  },
  {
   "cell_type": "code",
   "execution_count": 141,
   "id": "d782dd6e",
   "metadata": {},
   "outputs": [
    {
     "data": {
      "text/plain": [
       "(True, False, False, True, False)"
      ]
     },
     "execution_count": 141,
     "metadata": {},
     "output_type": "execute_result"
    }
   ],
   "source": [
    "is_vowel('a'), is_vowel('ea'), is_vowel('hello'), is_vowel('A'), is_vowel('D')"
   ]
  },
  {
   "cell_type": "markdown",
   "id": "3394795d",
   "metadata": {},
   "source": [
    "2. Write a function named `is_valid_username` that accepts a string as input. A valid username starts with a lowercase letter, and only consists of lowercase letters, numbers, or the _ character. It should also be no longer than 32 characters. The function should return either True or False depending on whether the passed string is a valid username."
   ]
  },
  {
   "cell_type": "code",
   "execution_count": 143,
   "id": "236f128e",
   "metadata": {},
   "outputs": [],
   "source": [
    "def is_valid_username(s):\n",
    "    return bool(re.match(r'^[a-z][a-z0-9/_]{,31}$', s))"
   ]
  },
  {
   "cell_type": "code",
   "execution_count": 146,
   "id": "4dc57840",
   "metadata": {},
   "outputs": [
    {
     "data": {
      "text/plain": [
       "(False, True, True)"
      ]
     },
     "execution_count": 146,
     "metadata": {},
     "output_type": "execute_result"
    }
   ],
   "source": [
    "is_valid_username('aaaaaaaaaaaaaaaaaaaaaaaaaaaaaaaaa'),is_valid_username('codeup'), is_valid_username('code_up')"
   ]
  },
  {
   "cell_type": "code",
   "execution_count": 145,
   "id": "8ac7ec8f",
   "metadata": {},
   "outputs": [
    {
     "data": {
      "text/plain": [
       "(False, True, False)"
      ]
     },
     "execution_count": 145,
     "metadata": {},
     "output_type": "execute_result"
    }
   ],
   "source": [
    "is_valid_username('Codeup'), is_valid_username('codeup123'), is_valid_username('1codeup')"
   ]
  },
  {
   "cell_type": "markdown",
   "id": "45c2a2c2",
   "metadata": {},
   "source": [
    "Breaking down the regex:\n",
    "- `^[a-z]` must begin with a letter\n",
    "- `[a-z0-9/_]{,31}` can be followed by any letter, number or underscore, but can be followed by more than 31 characters\n",
    "- `$` no more characters allowed\n",
    "\n",
    "3. Write a regular expression to capture phone numbers. It should match all of the following:\n",
    "\n",
    "`(210) 867 5309`\n",
    "\n",
    "`+1 210.867.5309`\n",
    "\n",
    "`867-5309`\n",
    "\n",
    "`210-867-5309`\n"
   ]
  },
  {
   "cell_type": "code",
   "execution_count": 150,
   "id": "18d44df4",
   "metadata": {},
   "outputs": [],
   "source": [
    "def match_phonenumber(s):\n",
    "    return bool(re.match(r'^(\\+?\\d+\\s)?(\\(?[2-9][0-9]{2}\\)?[\\s\\.\\-]?)?[2-9][0-9]{2}[\\.\\-\\s]?[0-9]{4}$',s))"
   ]
  },
  {
   "cell_type": "code",
   "execution_count": 151,
   "id": "24eb3717",
   "metadata": {},
   "outputs": [
    {
     "data": {
      "text/plain": [
       "(True, True)"
      ]
     },
     "execution_count": 151,
     "metadata": {},
     "output_type": "execute_result"
    }
   ],
   "source": [
    "match_phonenumber('(210) 867 5309'), match_phonenumber('+1 210.867.5309')"
   ]
  },
  {
   "cell_type": "code",
   "execution_count": 152,
   "id": "01a11436",
   "metadata": {},
   "outputs": [
    {
     "data": {
      "text/plain": [
       "(True, True)"
      ]
     },
     "execution_count": 152,
     "metadata": {},
     "output_type": "execute_result"
    }
   ],
   "source": [
    "match_phonenumber('867-5309'), match_phonenumber('210-867-5309')"
   ]
  },
  {
   "cell_type": "markdown",
   "id": "ba8f2c31",
   "metadata": {},
   "source": [
    "Breaking down the regular expression:\n",
    "\n",
    "- `(\\+[1-9]\\s)?` optional country code preceded by a `+`\n",
    "- `(\\(?[2-9][0-9]{2}\\)?[\\s\\.\\-])?` optional area code\n",
    "    - `\\(?` can begin with a `(`\n",
    "    - `[2-9][0-9]{2}` area codes begin with a number 2 through 9 and have two digits after\n",
    "    - `\\)?` can end in a `(`\n",
    "    - `[\\s\\.\\-]` can be seperated by a space, period or dash\n",
    "- `[2-9][0-9]{2}` central office/exchange code formatted same as area code\n",
    "- `[\\.\\-\\s]` can be seperated by a space, period or dash\n",
    "- `[0-9]{4}` line number\n",
    "- `^` ... `$` to capture only the entire string, so that numbers cannot be longer than a phone number\n",
    "\n",
    "Note the problem, this will match `+1 (210-567-8729` and similar formats.  ideally, a function checking for phone numbers would just remove any punctuation and check that groups of numbers are valid based on the phone numbering system.  I also assumed the following to determine digit types: <a href='https://en.wikipedia.org/wiki/North_American_Numbering_Plan#Modern_plan'>North American Numbering Plan/Modern Plan</a>.\n",
    "\n",
    "4. Use regular expressions to convert the dates below to the standardized year-month-day format.\n",
    "\n",
    "`02/04/19`\n",
    "\n",
    "`02/05/19`\n",
    "\n",
    "`02/06/19`\n",
    "\n",
    "`02/07/19`\n",
    "\n",
    "`02/08/19`\n",
    "\n",
    "`02/09/19`\n",
    "\n",
    "`02/10/19`\n",
    "\n",
    "Note: I assume that the years will be 2000 or later"
   ]
  },
  {
   "cell_type": "code",
   "execution_count": 10,
   "id": "74d2756d",
   "metadata": {},
   "outputs": [],
   "source": [
    "def format_date(s):\n",
    "    date_re = r'([0-1][1-9])/([0-3][0-9])/([0-9]{2})'\n",
    "    month, day, year = re.search(date_re, s).groups()\n",
    "    return f\"20{year}-{month}-{day}\""
   ]
  },
  {
   "cell_type": "code",
   "execution_count": 11,
   "id": "ca4b6495",
   "metadata": {},
   "outputs": [
    {
     "data": {
      "text/plain": [
       "('2019-02-04', '2019-02-05', '2019-02-06', '2019-02-07')"
      ]
     },
     "execution_count": 11,
     "metadata": {},
     "output_type": "execute_result"
    }
   ],
   "source": [
    "format_date('02/04/19'), format_date('02/05/19'), format_date('02/06/19'), format_date('02/07/19')"
   ]
  },
  {
   "cell_type": "code",
   "execution_count": 12,
   "id": "60ca2174",
   "metadata": {},
   "outputs": [
    {
     "data": {
      "text/plain": [
       "('2019-02-08', '2019-02-09', '2019-02-10')"
      ]
     },
     "execution_count": 12,
     "metadata": {},
     "output_type": "execute_result"
    }
   ],
   "source": [
    "format_date('02/08/19'), format_date('02/09/19'), format_date('02/10/19')"
   ]
  },
  {
   "cell_type": "markdown",
   "id": "0e37fbf2",
   "metadata": {},
   "source": [
    "Can also user pandas: `.str.replace(regex=True)`\n",
    "\n",
    "5. Write a regex to extract the various parts of these logfile lines:\n",
    "\n",
    "`GET /api/v1/sales?page=86 [16/Apr/2019:193452+0000] HTTP/1.1 {200} 510348 \"python-requests/2.21.0\" 97.105.19.58`\n",
    "\n",
    "`POST /users_accounts/file-upload [16/Apr/2019:193452+0000] HTTP/1.1 {201} 42 \"User-Agent: Mozilla/5.0 (X11; Fedora; Fedora; Linux x86_64) AppleWebKit/537.36 (KHTML, like Gecko) Chrome/73.0.3683.86 Safari/537.36\" 97.105.19.58`\n",
    "\n",
    "`GET /api/v1/items?page=3 [16/Apr/2019:193453+0000] HTTP/1.1 {429} 3561 \"python-requests/2.21.0\" 97.105.19.58`"
   ]
  },
  {
   "cell_type": "code",
   "execution_count": 67,
   "id": "61bc800d",
   "metadata": {},
   "outputs": [],
   "source": [
    "def parse_log_entry(s):\n",
    "    log_re = r'([A-Z]{,4}) ([/].*) (\\[[0-9]{2}\\/[A-Z][a-z]{2}\\/[0-9]{4}:[0-9]*\\+[0-9]{4}]) (HTTP/[1-9]\\.[1-9]) (\\{[0-9]*\\}) ([0-9]+) (\\\"[\\w\\W]+\\\") ([0-9]{,3}\\.[0-9]{,3}\\.[0-9]{,3}\\.[0-9]{,3})'\n",
    "    result = re.findall(log_re, s)\n",
    "    return result"
   ]
  },
  {
   "cell_type": "code",
   "execution_count": 68,
   "id": "9f6e9eda",
   "metadata": {},
   "outputs": [
    {
     "data": {
      "text/plain": [
       "[('GET',\n",
       "  '/api/v1/sales?page=86',\n",
       "  '[16/Apr/2019:193452+0000]',\n",
       "  'HTTP/1.1',\n",
       "  '{200}',\n",
       "  '510348',\n",
       "  '\"python-requests/2.21.0\"',\n",
       "  '97.105.19.58')]"
      ]
     },
     "execution_count": 68,
     "metadata": {},
     "output_type": "execute_result"
    }
   ],
   "source": [
    "parse_log_entry('GET /api/v1/sales?page=86 [16/Apr/2019:193452+0000] HTTP/1.1 {200} 510348 \"python-requests/2.21.0\" 97.105.19.58')"
   ]
  },
  {
   "cell_type": "code",
   "execution_count": 69,
   "id": "06634508",
   "metadata": {},
   "outputs": [
    {
     "data": {
      "text/plain": [
       "[('POST',\n",
       "  '/users_accounts/file-upload',\n",
       "  '[16/Apr/2019:193452+0000]',\n",
       "  'HTTP/1.1',\n",
       "  '{201}',\n",
       "  '42',\n",
       "  '\"User-Agent: Mozilla/5.0 (X11; Fedora; Fedora; Linux x86_64) AppleWebKit/537.36 (KHTML, like Gecko) Chrome/73.0.3683.86 Safari/537.36\"',\n",
       "  '97.105.19.58')]"
      ]
     },
     "execution_count": 69,
     "metadata": {},
     "output_type": "execute_result"
    }
   ],
   "source": [
    "parse_log_entry('POST /users_accounts/file-upload [16/Apr/2019:193452+0000] HTTP/1.1 {201} 42 \"User-Agent: Mozilla/5.0 (X11; Fedora; Fedora; Linux x86_64) AppleWebKit/537.36 (KHTML, like Gecko) Chrome/73.0.3683.86 Safari/537.36\" 97.105.19.58')"
   ]
  },
  {
   "cell_type": "code",
   "execution_count": 70,
   "id": "4802c563",
   "metadata": {},
   "outputs": [
    {
     "data": {
      "text/plain": [
       "[('GET',\n",
       "  '/api/v1/items?page=3',\n",
       "  '[16/Apr/2019:193453+0000]',\n",
       "  'HTTP/1.1',\n",
       "  '{429}',\n",
       "  '3561',\n",
       "  '\"python-requests/2.21.0\"',\n",
       "  '97.105.19.58')]"
      ]
     },
     "execution_count": 70,
     "metadata": {},
     "output_type": "execute_result"
    }
   ],
   "source": [
    "parse_log_entry('GET /api/v1/items?page=3 [16/Apr/2019:193453+0000] HTTP/1.1 {429} 3561 \"python-requests/2.21.0\" 97.105.19.58')"
   ]
  },
  {
   "cell_type": "markdown",
   "id": "a4276e98",
   "metadata": {},
   "source": [
    "#### Bonus"
   ]
  },
  {
   "cell_type": "code",
   "execution_count": 104,
   "id": "cb8fc30f",
   "metadata": {},
   "outputs": [],
   "source": [
    "def get_text():\n",
    "    with open('/usr/share/dict/words', 'r') as f:\n",
    "        text = f.read()\n",
    "    return text\n",
    "        \n",
    "text = get_text()"
   ]
  },
  {
   "cell_type": "code",
   "execution_count": 111,
   "id": "fa976ae0",
   "metadata": {},
   "outputs": [],
   "source": [
    "#How many words have at least 3 vowels?\n",
    "def at_least_three_vowels(t):\n",
    "    regex_1 = r'.*[aeiou].*[aeiou].*[aeiou].*'\n",
    "    return re.findall(regex_1, t, re.IGNORECASE)"
   ]
  },
  {
   "cell_type": "code",
   "execution_count": 113,
   "id": "bd0001eb",
   "metadata": {},
   "outputs": [
    {
     "data": {
      "text/plain": [
       "191365"
      ]
     },
     "execution_count": 113,
     "metadata": {},
     "output_type": "execute_result"
    }
   ],
   "source": [
    "len(at_least_three_vowels(text))"
   ]
  },
  {
   "cell_type": "code",
   "execution_count": 114,
   "id": "13a6e0c4",
   "metadata": {},
   "outputs": [],
   "source": [
    "#How many words have at least 3 vowels in a row?\n",
    "def at_least_three_vowels_in_row(t):\n",
    "    regex_2 = r'.*[aeiou][aeiou][aeiou].*'\n",
    "    return re.findall(regex_2, t, re.IGNORECASE)"
   ]
  },
  {
   "cell_type": "code",
   "execution_count": 120,
   "id": "b7b6f9d4",
   "metadata": {},
   "outputs": [
    {
     "data": {
      "text/plain": [
       "6182"
      ]
     },
     "execution_count": 120,
     "metadata": {},
     "output_type": "execute_result"
    }
   ],
   "source": [
    "len(at_least_three_vowels_in_row(text))"
   ]
  },
  {
   "cell_type": "code",
   "execution_count": 129,
   "id": "6d7d9887",
   "metadata": {},
   "outputs": [],
   "source": [
    "#How many words have at least 4 consonants in a row?\n",
    "def at_least_four_consonants_in_row(t):\n",
    "    regex_3 = r'.*[^aeiou\\s][^aeiou\\s][^aeiou\\s][^aeiou\\s].*'\n",
    "    return re.findall(regex_3, t, re.IGNORECASE)"
   ]
  },
  {
   "cell_type": "code",
   "execution_count": 130,
   "id": "b4b28f70",
   "metadata": {},
   "outputs": [
    {
     "data": {
      "text/plain": [
       "19241"
      ]
     },
     "execution_count": 130,
     "metadata": {},
     "output_type": "execute_result"
    }
   ],
   "source": [
    "len(at_least_four_consonants_in_row(text))"
   ]
  },
  {
   "cell_type": "code",
   "execution_count": 134,
   "id": "e01b18c2",
   "metadata": {},
   "outputs": [],
   "source": [
    "#How many words start and end with a vowel?\n",
    "def start_and_end_vowel(t):\n",
    "    regex_4 = r'\\b[aeiou].*[aeiou]\\b'\n",
    "    return re.findall(regex_4, t, re.IGNORECASE)"
   ]
  },
  {
   "cell_type": "code",
   "execution_count": 136,
   "id": "1f91a8b2",
   "metadata": {},
   "outputs": [
    {
     "data": {
      "text/plain": [
       "14657"
      ]
     },
     "execution_count": 136,
     "metadata": {},
     "output_type": "execute_result"
    }
   ],
   "source": [
    "len(start_and_end_vowel(text))"
   ]
  },
  {
   "cell_type": "code",
   "execution_count": null,
   "id": "274b5da2",
   "metadata": {},
   "outputs": [],
   "source": []
  }
 ],
 "metadata": {
  "kernelspec": {
   "display_name": "Python 3 (ipykernel)",
   "language": "python",
   "name": "python3"
  },
  "language_info": {
   "codemirror_mode": {
    "name": "ipython",
    "version": 3
   },
   "file_extension": ".py",
   "mimetype": "text/x-python",
   "name": "python",
   "nbconvert_exporter": "python",
   "pygments_lexer": "ipython3",
   "version": "3.9.12"
  }
 },
 "nbformat": 4,
 "nbformat_minor": 5
}
