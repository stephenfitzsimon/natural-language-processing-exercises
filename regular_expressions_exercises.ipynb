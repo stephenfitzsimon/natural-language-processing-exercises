{
 "cells": [
  {
   "cell_type": "code",
   "execution_count": 1,
   "id": "d74ecffe",
   "metadata": {},
   "outputs": [],
   "source": [
    "import re"
   ]
  },
  {
   "cell_type": "markdown",
   "id": "05810f52",
   "metadata": {},
   "source": [
    "1. Write a function named `is_vowel`. It should accept a string as input and use a regular expression to determine if the passed string is a vowel. While not explicity mentioned in the lesson, you can treat the result of re.search as a boolean value that indicates whether or not the regular expression matches the given string."
   ]
  },
  {
   "cell_type": "code",
   "execution_count": 86,
   "id": "48989f83",
   "metadata": {},
   "outputs": [],
   "source": [
    "#making an assumption that I am looking for strings that\n",
    "#are a single vowel\n",
    "\n",
    "def is_vowel(s):\n",
    "    return bool(re.findall(r'\\b[aeiou]$', s, re.IGNORECASE))"
   ]
  },
  {
   "cell_type": "code",
   "execution_count": 87,
   "id": "d782dd6e",
   "metadata": {},
   "outputs": [
    {
     "data": {
      "text/plain": [
       "(True, False, False, True)"
      ]
     },
     "execution_count": 87,
     "metadata": {},
     "output_type": "execute_result"
    }
   ],
   "source": [
    "is_vowel('a'), is_vowel('ea'), is_vowel('hello'), is_vowel('A')"
   ]
  },
  {
   "cell_type": "markdown",
   "id": "3394795d",
   "metadata": {},
   "source": [
    "2. Write a function named `is_valid_username` that accepts a string as input. A valid username starts with a lowercase letter, and only consists of lowercase letters, numbers, or the _ character. It should also be no longer than 32 characters. The function should return either True or False depending on whether the passed string is a valid username."
   ]
  },
  {
   "cell_type": "code",
   "execution_count": 76,
   "id": "236f128e",
   "metadata": {},
   "outputs": [],
   "source": [
    "def is_valid_username(s):\n",
    "    return bool(re.match(r'^[a-z][a-z0-9/_]{,31}$', s))"
   ]
  },
  {
   "cell_type": "code",
   "execution_count": 77,
   "id": "4dc57840",
   "metadata": {},
   "outputs": [
    {
     "data": {
      "text/plain": [
       "(False, True)"
      ]
     },
     "execution_count": 77,
     "metadata": {},
     "output_type": "execute_result"
    }
   ],
   "source": [
    "is_valid_username('aaaaaaaaaaaaaaaaaaaaaaaaaaaaaaaaa'),is_valid_username('codeup')"
   ]
  },
  {
   "cell_type": "code",
   "execution_count": 78,
   "id": "8ac7ec8f",
   "metadata": {},
   "outputs": [
    {
     "data": {
      "text/plain": [
       "(False, True, False)"
      ]
     },
     "execution_count": 78,
     "metadata": {},
     "output_type": "execute_result"
    }
   ],
   "source": [
    "is_valid_username('Codeup'), is_valid_username('codeup123'), is_valid_username('1codeup')"
   ]
  },
  {
   "cell_type": "markdown",
   "id": "45c2a2c2",
   "metadata": {},
   "source": [
    "3. Write a regular expression to capture phone numbers. It should match all of the following:\n",
    "\n",
    "`(210) 867 5309`\n",
    "\n",
    "`+1 210.867.5309`\n",
    "\n",
    "`867-5309`\n",
    "\n",
    "`210-867-5309`\n"
   ]
  },
  {
   "cell_type": "code",
   "execution_count": 98,
   "id": "18d44df4",
   "metadata": {},
   "outputs": [],
   "source": [
    "def match_phonenumber(s):\n",
    "    return bool(re.match(r'(\\+?[1-9]\\s)?(\\(?[2-9][0-9]{2}\\)?[\\s\\.\\-]?)?[2-9][0-9]{2}[\\.\\-\\s]?[0-9]{4}',s))"
   ]
  },
  {
   "cell_type": "code",
   "execution_count": 99,
   "id": "24eb3717",
   "metadata": {},
   "outputs": [
    {
     "data": {
      "text/plain": [
       "(True, True)"
      ]
     },
     "execution_count": 99,
     "metadata": {},
     "output_type": "execute_result"
    }
   ],
   "source": [
    "match_phonenumber('(210) 867 5309'), match_phonenumber('+1 210.867.5309')"
   ]
  },
  {
   "cell_type": "code",
   "execution_count": 100,
   "id": "01a11436",
   "metadata": {},
   "outputs": [
    {
     "data": {
      "text/plain": [
       "(True, True)"
      ]
     },
     "execution_count": 100,
     "metadata": {},
     "output_type": "execute_result"
    }
   ],
   "source": [
    "match_phonenumber('867-5309'), match_phonenumber('210-867-5309')"
   ]
  },
  {
   "cell_type": "markdown",
   "id": "ba8f2c31",
   "metadata": {},
   "source": [
    "Breaking down the regular expression:\n",
    "\n",
    "- `(\\+[1-9]\\s)?` optional country code preceded by a `+`\n",
    "- `(\\(?[2-9][0-9]{2}\\)?[\\s\\.\\-])?` optional area code\n",
    "    - `\\(?` can begin with a `(`\n",
    "    - `[2-9][0-9]{2}` area codes begin with a number 2 through 9 and have two digits after\n",
    "    - `\\)?` can end in a `(`\n",
    "    - `[\\s\\.\\-]` can be seperated by a space, period or dash\n",
    "- `[2-9][0-9]{2}` central office/exchange code formatted same as area code\n",
    "- `[\\.\\-\\s]` can be seperated by a space, period or dash\n",
    "- `[0-9]{4}` line number\n",
    "\n",
    "4. Use regular expressions to convert the dates below to the standardized year-month-day format.\n",
    "\n",
    "`02/04/19`\n",
    "\n",
    "`02/05/19`\n",
    "\n",
    "`02/06/19`\n",
    "\n",
    "`02/07/19`\n",
    "\n",
    "`02/08/19`\n",
    "\n",
    "`02/09/19`\n",
    "\n",
    "`02/10/19`\n",
    "\n",
    "Note: I assume that the years will be 2000 or later"
   ]
  },
  {
   "cell_type": "code",
   "execution_count": 10,
   "id": "74d2756d",
   "metadata": {},
   "outputs": [],
   "source": [
    "def format_date(s):\n",
    "    date_re = r'([0-1][1-9])/([0-3][0-9])/([0-9]{2})'\n",
    "    month, day, year = re.search(date_re, s).groups()\n",
    "    return f\"20{year}-{month}-{day}\""
   ]
  },
  {
   "cell_type": "code",
   "execution_count": 11,
   "id": "ca4b6495",
   "metadata": {},
   "outputs": [
    {
     "data": {
      "text/plain": [
       "('2019-02-04', '2019-02-05', '2019-02-06', '2019-02-07')"
      ]
     },
     "execution_count": 11,
     "metadata": {},
     "output_type": "execute_result"
    }
   ],
   "source": [
    "format_date('02/04/19'), format_date('02/05/19'), format_date('02/06/19'), format_date('02/07/19')"
   ]
  },
  {
   "cell_type": "code",
   "execution_count": 12,
   "id": "60ca2174",
   "metadata": {},
   "outputs": [
    {
     "data": {
      "text/plain": [
       "('2019-02-08', '2019-02-09', '2019-02-10')"
      ]
     },
     "execution_count": 12,
     "metadata": {},
     "output_type": "execute_result"
    }
   ],
   "source": [
    "format_date('02/08/19'), format_date('02/09/19'), format_date('02/10/19')"
   ]
  },
  {
   "cell_type": "markdown",
   "id": "0e37fbf2",
   "metadata": {},
   "source": [
    "5. Write a regex to extract the various parts of these logfile lines:\n",
    "\n",
    "`GET /api/v1/sales?page=86 [16/Apr/2019:193452+0000] HTTP/1.1 {200} 510348 \"python-requests/2.21.0\" 97.105.19.58`\n",
    "\n",
    "`POST /users_accounts/file-upload [16/Apr/2019:193452+0000] HTTP/1.1 {201} 42 \"User-Agent: Mozilla/5.0 (X11; Fedora; Fedora; Linux x86_64) AppleWebKit/537.36 (KHTML, like Gecko) Chrome/73.0.3683.86 Safari/537.36\" 97.105.19.58`\n",
    "\n",
    "`GET /api/v1/items?page=3 [16/Apr/2019:193453+0000] HTTP/1.1 {429} 3561 \"python-requests/2.21.0\" 97.105.19.58`"
   ]
  },
  {
   "cell_type": "code",
   "execution_count": 67,
   "id": "61bc800d",
   "metadata": {},
   "outputs": [],
   "source": [
    "def parse_log_entry(s):\n",
    "    log_re = r'([A-Z]{,4}) ([/].*) (\\[[0-9]{2}\\/[A-Z][a-z]{2}\\/[0-9]{4}:[0-9]*\\+[0-9]{4}]) (HTTP/[1-9]\\.[1-9]) (\\{[0-9]*\\}) ([0-9]+) (\\\"[\\w\\W]+\\\") ([0-9]{,3}\\.[0-9]{,3}\\.[0-9]{,3}\\.[0-9]{,3})'\n",
    "    result = re.findall(log_re, s)\n",
    "    return result"
   ]
  },
  {
   "cell_type": "code",
   "execution_count": 68,
   "id": "059d4de0",
   "metadata": {},
   "outputs": [
    {
     "data": {
      "text/plain": [
       "[('GET',\n",
       "  '/api/v1/sales?page=86',\n",
       "  '[16/Apr/2019:193452+0000]',\n",
       "  'HTTP/1.1',\n",
       "  '{200}',\n",
       "  '510348',\n",
       "  '\"python-requests/2.21.0\"',\n",
       "  '97.105.19.58')]"
      ]
     },
     "execution_count": 68,
     "metadata": {},
     "output_type": "execute_result"
    }
   ],
   "source": [
    "parse_log_entry('GET /api/v1/sales?page=86 [16/Apr/2019:193452+0000] HTTP/1.1 {200} 510348 \"python-requests/2.21.0\" 97.105.19.58')"
   ]
  },
  {
   "cell_type": "code",
   "execution_count": 69,
   "id": "520c4e0b",
   "metadata": {},
   "outputs": [
    {
     "data": {
      "text/plain": [
       "[('POST',\n",
       "  '/users_accounts/file-upload',\n",
       "  '[16/Apr/2019:193452+0000]',\n",
       "  'HTTP/1.1',\n",
       "  '{201}',\n",
       "  '42',\n",
       "  '\"User-Agent: Mozilla/5.0 (X11; Fedora; Fedora; Linux x86_64) AppleWebKit/537.36 (KHTML, like Gecko) Chrome/73.0.3683.86 Safari/537.36\"',\n",
       "  '97.105.19.58')]"
      ]
     },
     "execution_count": 69,
     "metadata": {},
     "output_type": "execute_result"
    }
   ],
   "source": [
    "parse_log_entry('POST /users_accounts/file-upload [16/Apr/2019:193452+0000] HTTP/1.1 {201} 42 \"User-Agent: Mozilla/5.0 (X11; Fedora; Fedora; Linux x86_64) AppleWebKit/537.36 (KHTML, like Gecko) Chrome/73.0.3683.86 Safari/537.36\" 97.105.19.58')"
   ]
  },
  {
   "cell_type": "code",
   "execution_count": 70,
   "id": "2bc82a34",
   "metadata": {},
   "outputs": [
    {
     "data": {
      "text/plain": [
       "[('GET',\n",
       "  '/api/v1/items?page=3',\n",
       "  '[16/Apr/2019:193453+0000]',\n",
       "  'HTTP/1.1',\n",
       "  '{429}',\n",
       "  '3561',\n",
       "  '\"python-requests/2.21.0\"',\n",
       "  '97.105.19.58')]"
      ]
     },
     "execution_count": 70,
     "metadata": {},
     "output_type": "execute_result"
    }
   ],
   "source": [
    "parse_log_entry('GET /api/v1/items?page=3 [16/Apr/2019:193453+0000] HTTP/1.1 {429} 3561 \"python-requests/2.21.0\" 97.105.19.58')"
   ]
  },
  {
   "cell_type": "code",
   "execution_count": null,
   "id": "eefe92db",
   "metadata": {},
   "outputs": [],
   "source": []
  }
 ],
 "metadata": {
  "kernelspec": {
   "display_name": "Python 3 (ipykernel)",
   "language": "python",
   "name": "python3"
  },
  "language_info": {
   "codemirror_mode": {
    "name": "ipython",
    "version": 3
   },
   "file_extension": ".py",
   "mimetype": "text/x-python",
   "name": "python",
   "nbconvert_exporter": "python",
   "pygments_lexer": "ipython3",
   "version": "3.9.12"
  }
 },
 "nbformat": 4,
 "nbformat_minor": 5
}
